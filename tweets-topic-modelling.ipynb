{
 "cells": [
  {
   "cell_type": "code",
   "execution_count": 1,
   "metadata": {},
   "outputs": [
    {
     "name": "stderr",
     "output_type": "stream",
     "text": [
      "/opt/devhome/anaconda3/lib/python3.6/site-packages/numpy/lib/arraysetops.py:463: FutureWarning: elementwise comparison failed; returning scalar instead, but in the future will perform elementwise comparison\n",
      "  mask |= (ar1 == a)\n"
     ]
    }
   ],
   "source": [
    "import pandas as pd\n",
    "import numpy as np\n",
    "\n",
    "\n",
    "def load_tweets():\n",
    "    return pd.read_csv('customer-support-on-twitter/twcs.zip', index_col=0)\n",
    "\n",
    "\n",
    "tweets = load_tweets()"
   ]
  },
  {
   "cell_type": "code",
   "execution_count": 2,
   "metadata": {},
   "outputs": [
    {
     "data": {
      "text/html": [
       "<div>\n",
       "<style>\n",
       "    .dataframe thead tr:only-child th {\n",
       "        text-align: right;\n",
       "    }\n",
       "\n",
       "    .dataframe thead th {\n",
       "        text-align: left;\n",
       "    }\n",
       "\n",
       "    .dataframe tbody tr th {\n",
       "        vertical-align: top;\n",
       "    }\n",
       "</style>\n",
       "<table border=\"1\" class=\"dataframe\">\n",
       "  <thead>\n",
       "    <tr style=\"text-align: right;\">\n",
       "      <th></th>\n",
       "      <th>author_id</th>\n",
       "      <th>inbound</th>\n",
       "      <th>created_at</th>\n",
       "      <th>text</th>\n",
       "      <th>response_tweet_id</th>\n",
       "      <th>in_response_to_tweet_id</th>\n",
       "    </tr>\n",
       "    <tr>\n",
       "      <th>tweet_id</th>\n",
       "      <th></th>\n",
       "      <th></th>\n",
       "      <th></th>\n",
       "      <th></th>\n",
       "      <th></th>\n",
       "      <th></th>\n",
       "    </tr>\n",
       "  </thead>\n",
       "  <tbody>\n",
       "    <tr>\n",
       "      <th>1786</th>\n",
       "      <td>AppleSupport</td>\n",
       "      <td>False</td>\n",
       "      <td>Tue Oct 31 22:30:01 +0000 2017</td>\n",
       "      <td>@116107 Glad to hear and just reach out again ...</td>\n",
       "      <td>NaN</td>\n",
       "      <td>1787.0</td>\n",
       "    </tr>\n",
       "    <tr>\n",
       "      <th>1787</th>\n",
       "      <td>116107</td>\n",
       "      <td>True</td>\n",
       "      <td>Tue Oct 31 22:10:27 +0000 2017</td>\n",
       "      <td>@AppleSupport Worked 👌🏽</td>\n",
       "      <td>1786</td>\n",
       "      <td>1788.0</td>\n",
       "    </tr>\n",
       "    <tr>\n",
       "      <th>1788</th>\n",
       "      <td>AppleSupport</td>\n",
       "      <td>False</td>\n",
       "      <td>Tue Oct 31 21:46:54 +0000 2017</td>\n",
       "      <td>@116107 Please keep us posted afterwards.</td>\n",
       "      <td>1787</td>\n",
       "      <td>1789.0</td>\n",
       "    </tr>\n",
       "    <tr>\n",
       "      <th>1789</th>\n",
       "      <td>116107</td>\n",
       "      <td>True</td>\n",
       "      <td>Tue Oct 31 21:32:24 +0000 2017</td>\n",
       "      <td>@AppleSupport No I had 11.0.3 but now it says ...</td>\n",
       "      <td>1788</td>\n",
       "      <td>1790.0</td>\n",
       "    </tr>\n",
       "    <tr>\n",
       "      <th>1790</th>\n",
       "      <td>AppleSupport</td>\n",
       "      <td>False</td>\n",
       "      <td>Tue Oct 31 21:30:00 +0000 2017</td>\n",
       "      <td>@116107 Apps are important and we want you to ...</td>\n",
       "      <td>1789</td>\n",
       "      <td>1791.0</td>\n",
       "    </tr>\n",
       "    <tr>\n",
       "      <th>1791</th>\n",
       "      <td>116107</td>\n",
       "      <td>True</td>\n",
       "      <td>Tue Oct 31 21:25:20 +0000 2017</td>\n",
       "      <td>why won’t my apps fuccin download or update @A...</td>\n",
       "      <td>1790</td>\n",
       "      <td>NaN</td>\n",
       "    </tr>\n",
       "  </tbody>\n",
       "</table>\n",
       "</div>"
      ],
      "text/plain": [
       "             author_id  inbound                      created_at  \\\n",
       "tweet_id                                                          \n",
       "1786      AppleSupport    False  Tue Oct 31 22:30:01 +0000 2017   \n",
       "1787            116107     True  Tue Oct 31 22:10:27 +0000 2017   \n",
       "1788      AppleSupport    False  Tue Oct 31 21:46:54 +0000 2017   \n",
       "1789            116107     True  Tue Oct 31 21:32:24 +0000 2017   \n",
       "1790      AppleSupport    False  Tue Oct 31 21:30:00 +0000 2017   \n",
       "1791            116107     True  Tue Oct 31 21:25:20 +0000 2017   \n",
       "\n",
       "                                                       text response_tweet_id  \\\n",
       "tweet_id                                                                        \n",
       "1786      @116107 Glad to hear and just reach out again ...               NaN   \n",
       "1787                                @AppleSupport Worked 👌🏽              1786   \n",
       "1788              @116107 Please keep us posted afterwards.              1787   \n",
       "1789      @AppleSupport No I had 11.0.3 but now it says ...              1788   \n",
       "1790      @116107 Apps are important and we want you to ...              1789   \n",
       "1791      why won’t my apps fuccin download or update @A...              1790   \n",
       "\n",
       "          in_response_to_tweet_id  \n",
       "tweet_id                           \n",
       "1786                       1787.0  \n",
       "1787                       1788.0  \n",
       "1788                       1789.0  \n",
       "1789                       1790.0  \n",
       "1790                       1791.0  \n",
       "1791                          NaN  "
      ]
     },
     "execution_count": 2,
     "metadata": {},
     "output_type": "execute_result"
    }
   ],
   "source": [
    "tweets.head(1202).tail(6)"
   ]
  },
  {
   "cell_type": "code",
   "execution_count": 3,
   "metadata": {},
   "outputs": [
    {
     "data": {
      "text/plain": [
       "array(['sprintcare', 'Ask_Spectrum', 'VerizonSupport', 'ChipotleTweets',\n",
       "       'AskPlayStation', 'marksandspencer', 'MicrosoftHelps', 'ATVIAssist',\n",
       "       'AdobeCare', 'AmazonHelp', 'XboxSupport', 'AirbnbHelp',\n",
       "       'nationalrailenq', 'AirAsiaSupport', 'Morrisons', 'NikeSupport',\n",
       "       'AskAmex', 'McDonalds', 'YahooCare', 'AskLyft', 'UPSHelp', 'Delta',\n",
       "       'AppleSupport', 'Uber_Support', 'Tesco', 'SpotifyCares',\n",
       "       'British_Airways', 'comcastcares', 'AmericanAir', 'TMobileHelp',\n",
       "       'VirginTrains', 'SouthwestAir', 'AskeBay', 'hulu_support',\n",
       "       'GWRHelp', 'sainsburys', 'AskPayPal', 'HPSupport', 'ChaseSupport',\n",
       "       'CoxHelp', 'DropboxSupport', 'VirginAtlantic', 'BofA_Help',\n",
       "       'AzureSupport', 'AlaskaAir', 'ArgosHelpers', 'Postmates_Help',\n",
       "       'AskTarget', 'GoDaddyHelp', 'CenturyLinkHelp', 'AskPapaJohns',\n",
       "       'SW_Help', 'askpanera', 'Walmart', 'USCellularCares',\n",
       "       'AsurionCares', 'GloCare', 'idea_cares', 'DoorDash_Help',\n",
       "       'NeweggService', 'VirginAmerica', 'Safaricom_Care', 'DunkinDonuts',\n",
       "       'Ask_WellsFargo', 'O2', 'TfL', 'asksalesforce', 'airtel_care',\n",
       "       'Kimpton', 'AskCiti', 'IHGService', 'LondonMidland', 'JetBlue',\n",
       "       'BoostCare', 'JackBox', 'AldiUK', 'HiltonHelp', 'GooglePlayMusic',\n",
       "       'OfficeSupport', 'KFC_UKI_Help', 'DellCares', 'TwitterSupport',\n",
       "       'GreggsOfficial', 'ATT', 'TacoBellTeam', 'AskRBC', 'ArbysCares',\n",
       "       'NortonSupport', 'AskSeagate', 'sizehelpteam', 'SCsupport', 'MOO',\n",
       "       'AskDSC', 'AskVirginMoney', 'AskRobinhood', 'MTNC_Care',\n",
       "       'AWSSupport', 'VMUcare', 'mediatemplehelp', 'AskTigogh',\n",
       "       'PandoraSupport', 'askvisa', 'OPPOCareIN', 'ask_progressive',\n",
       "       'PearsonSupport', 'CarlsJr', 'HotelTonightCX', 'KeyBank_Help'], dtype=object)"
      ]
     },
     "execution_count": 3,
     "metadata": {},
     "output_type": "execute_result"
    }
   ],
   "source": [
    "tweets.loc[tweets['inbound']==False]['author_id'].unique()"
   ]
  },
  {
   "cell_type": "code",
   "execution_count": 4,
   "metadata": {},
   "outputs": [
    {
     "name": "stdout",
     "output_type": "stream",
     "text": [
      "Found 787346 first inbound messages.\n"
     ]
    },
    {
     "data": {
      "text/html": [
       "<div>\n",
       "<style>\n",
       "    .dataframe thead tr:only-child th {\n",
       "        text-align: right;\n",
       "    }\n",
       "\n",
       "    .dataframe thead th {\n",
       "        text-align: left;\n",
       "    }\n",
       "\n",
       "    .dataframe tbody tr th {\n",
       "        vertical-align: top;\n",
       "    }\n",
       "</style>\n",
       "<table border=\"1\" class=\"dataframe\">\n",
       "  <thead>\n",
       "    <tr style=\"text-align: right;\">\n",
       "      <th></th>\n",
       "      <th>in_response_to_tweet_id</th>\n",
       "      <th>author_id_x</th>\n",
       "      <th>inbound_x</th>\n",
       "      <th>created_at_x</th>\n",
       "      <th>text_x</th>\n",
       "      <th>response_tweet_id_x</th>\n",
       "      <th>in_response_to_tweet_id_x</th>\n",
       "      <th>author_id_y</th>\n",
       "      <th>inbound_y</th>\n",
       "      <th>created_at_y</th>\n",
       "      <th>text_y</th>\n",
       "      <th>response_tweet_id_y</th>\n",
       "      <th>in_response_to_tweet_id_y</th>\n",
       "    </tr>\n",
       "    <tr>\n",
       "      <th>tweet_id</th>\n",
       "      <th></th>\n",
       "      <th></th>\n",
       "      <th></th>\n",
       "      <th></th>\n",
       "      <th></th>\n",
       "      <th></th>\n",
       "      <th></th>\n",
       "      <th></th>\n",
       "      <th></th>\n",
       "      <th></th>\n",
       "      <th></th>\n",
       "      <th></th>\n",
       "      <th></th>\n",
       "    </tr>\n",
       "  </thead>\n",
       "  <tbody>\n",
       "    <tr>\n",
       "      <th>2378</th>\n",
       "      <td>2380</td>\n",
       "      <td>116254</td>\n",
       "      <td>True</td>\n",
       "      <td>Tue Oct 31 21:53:32 +0000 2017</td>\n",
       "      <td>Just got recognized at @Walmart as the guy who...</td>\n",
       "      <td>2378</td>\n",
       "      <td>NaN</td>\n",
       "      <td>Walmart</td>\n",
       "      <td>False</td>\n",
       "      <td>Tue Oct 31 22:39:02 +0000 2017</td>\n",
       "      <td>@116254 We disagree, Dylan. We're excited that...</td>\n",
       "      <td>2379</td>\n",
       "      <td>2380</td>\n",
       "    </tr>\n",
       "    <tr>\n",
       "      <th>2383</th>\n",
       "      <td>2384</td>\n",
       "      <td>116256</td>\n",
       "      <td>True</td>\n",
       "      <td>Sun Oct 29 05:03:21 +0000 2017</td>\n",
       "      <td>we all know walmart is better in terms of a lo...</td>\n",
       "      <td>2383</td>\n",
       "      <td>NaN</td>\n",
       "      <td>Walmart</td>\n",
       "      <td>False</td>\n",
       "      <td>Sun Oct 29 14:16:20 +0000 2017</td>\n",
       "      <td>@116256 We ❤️ you too, Angel. Thanks for havin...</td>\n",
       "      <td>2382</td>\n",
       "      <td>2384</td>\n",
       "    </tr>\n",
       "    <tr>\n",
       "      <th>2390</th>\n",
       "      <td>2391</td>\n",
       "      <td>116259</td>\n",
       "      <td>True</td>\n",
       "      <td>Tue Oct 31 19:01:20 +0000 2017</td>\n",
       "      <td>It isn’t every day you get 3 carts full of bla...</td>\n",
       "      <td>2390</td>\n",
       "      <td>NaN</td>\n",
       "      <td>Walmart</td>\n",
       "      <td>False</td>\n",
       "      <td>Tue Oct 31 22:08:18 +0000 2017</td>\n",
       "      <td>@116259 We love it! Sounds like a double win! ...</td>\n",
       "      <td>NaN</td>\n",
       "      <td>2391</td>\n",
       "    </tr>\n",
       "    <tr>\n",
       "      <th>2392</th>\n",
       "      <td>2393</td>\n",
       "      <td>116260</td>\n",
       "      <td>True</td>\n",
       "      <td>Tue Oct 31 20:34:57 +0000 2017</td>\n",
       "      <td>Used @Walmart #grocerypickup and it's a pretty...</td>\n",
       "      <td>2392</td>\n",
       "      <td>NaN</td>\n",
       "      <td>Walmart</td>\n",
       "      <td>False</td>\n",
       "      <td>Tue Oct 31 22:00:57 +0000 2017</td>\n",
       "      <td>@116260 Yay! We're thrilled to hear you've enj...</td>\n",
       "      <td>NaN</td>\n",
       "      <td>2393</td>\n",
       "    </tr>\n",
       "    <tr>\n",
       "      <th>2394</th>\n",
       "      <td>2395</td>\n",
       "      <td>116261</td>\n",
       "      <td>True</td>\n",
       "      <td>Tue Oct 31 20:45:49 +0000 2017</td>\n",
       "      <td>Everybody I’ve met at Walmart is so friendly! ...</td>\n",
       "      <td>2394</td>\n",
       "      <td>NaN</td>\n",
       "      <td>Walmart</td>\n",
       "      <td>False</td>\n",
       "      <td>Tue Oct 31 21:53:49 +0000 2017</td>\n",
       "      <td>@116261 We want you to leave our store with a ...</td>\n",
       "      <td>NaN</td>\n",
       "      <td>2395</td>\n",
       "    </tr>\n",
       "    <tr>\n",
       "      <th>2398</th>\n",
       "      <td>2399</td>\n",
       "      <td>116262</td>\n",
       "      <td>True</td>\n",
       "      <td>Tue Oct 31 17:10:30 +0000 2017</td>\n",
       "      <td>Happy Halloween! Look at these pumpkins that w...</td>\n",
       "      <td>2398</td>\n",
       "      <td>NaN</td>\n",
       "      <td>Walmart</td>\n",
       "      <td>False</td>\n",
       "      <td>Tue Oct 31 17:34:28 +0000 2017</td>\n",
       "      <td>@116262 Nothing but the best for the communiti...</td>\n",
       "      <td>2397</td>\n",
       "      <td>2399</td>\n",
       "    </tr>\n",
       "  </tbody>\n",
       "</table>\n",
       "</div>"
      ],
      "text/plain": [
       "          in_response_to_tweet_id author_id_x  inbound_x  \\\n",
       "tweet_id                                                   \n",
       "2378                         2380      116254       True   \n",
       "2383                         2384      116256       True   \n",
       "2390                         2391      116259       True   \n",
       "2392                         2393      116260       True   \n",
       "2394                         2395      116261       True   \n",
       "2398                         2399      116262       True   \n",
       "\n",
       "                            created_at_x  \\\n",
       "tweet_id                                   \n",
       "2378      Tue Oct 31 21:53:32 +0000 2017   \n",
       "2383      Sun Oct 29 05:03:21 +0000 2017   \n",
       "2390      Tue Oct 31 19:01:20 +0000 2017   \n",
       "2392      Tue Oct 31 20:34:57 +0000 2017   \n",
       "2394      Tue Oct 31 20:45:49 +0000 2017   \n",
       "2398      Tue Oct 31 17:10:30 +0000 2017   \n",
       "\n",
       "                                                     text_x  \\\n",
       "tweet_id                                                      \n",
       "2378      Just got recognized at @Walmart as the guy who...   \n",
       "2383      we all know walmart is better in terms of a lo...   \n",
       "2390      It isn’t every day you get 3 carts full of bla...   \n",
       "2392      Used @Walmart #grocerypickup and it's a pretty...   \n",
       "2394      Everybody I’ve met at Walmart is so friendly! ...   \n",
       "2398      Happy Halloween! Look at these pumpkins that w...   \n",
       "\n",
       "         response_tweet_id_x in_response_to_tweet_id_x author_id_y  inbound_y  \\\n",
       "tweet_id                                                                        \n",
       "2378                    2378                       NaN     Walmart      False   \n",
       "2383                    2383                       NaN     Walmart      False   \n",
       "2390                    2390                       NaN     Walmart      False   \n",
       "2392                    2392                       NaN     Walmart      False   \n",
       "2394                    2394                       NaN     Walmart      False   \n",
       "2398                    2398                       NaN     Walmart      False   \n",
       "\n",
       "                            created_at_y  \\\n",
       "tweet_id                                   \n",
       "2378      Tue Oct 31 22:39:02 +0000 2017   \n",
       "2383      Sun Oct 29 14:16:20 +0000 2017   \n",
       "2390      Tue Oct 31 22:08:18 +0000 2017   \n",
       "2392      Tue Oct 31 22:00:57 +0000 2017   \n",
       "2394      Tue Oct 31 21:53:49 +0000 2017   \n",
       "2398      Tue Oct 31 17:34:28 +0000 2017   \n",
       "\n",
       "                                                     text_y  \\\n",
       "tweet_id                                                      \n",
       "2378      @116254 We disagree, Dylan. We're excited that...   \n",
       "2383      @116256 We ❤️ you too, Angel. Thanks for havin...   \n",
       "2390      @116259 We love it! Sounds like a double win! ...   \n",
       "2392      @116260 Yay! We're thrilled to hear you've enj...   \n",
       "2394      @116261 We want you to leave our store with a ...   \n",
       "2398      @116262 Nothing but the best for the communiti...   \n",
       "\n",
       "         response_tweet_id_y in_response_to_tweet_id_y  \n",
       "tweet_id                                                \n",
       "2378                    2379                      2380  \n",
       "2383                    2382                      2384  \n",
       "2390                     NaN                      2391  \n",
       "2392                     NaN                      2393  \n",
       "2394                     NaN                      2395  \n",
       "2398                    2397                      2399  "
      ]
     },
     "execution_count": 4,
     "metadata": {},
     "output_type": "execute_result"
    }
   ],
   "source": [
    "# Pick only inbound tweets that aren't in reply to anything...\n",
    "first_inbound = tweets[pd.isnull(tweets.in_response_to_tweet_id) & tweets.inbound]\n",
    "print('Found {} first inbound messages.'.format(len(first_inbound)))\n",
    "\n",
    "# Merge in all tweets in response\n",
    "#inbounds_and_outbounds = pd.merge(first_inbound, tweets, left_on='tweet_id', \n",
    "#                                  right_on='in_response_to_tweet_id')\n",
    "#print(\"Found {} responses.\".format(len(inbounds_and_outbounds)))\n",
    "\n",
    "inbounds_and_outbounds = pd.merge(first_inbound, tweets, left_index=True, \n",
    "                                  right_on='in_response_to_tweet_id')\n",
    "\n",
    "\n",
    "# Filter out cases where reply tweet isn't from company\n",
    "inbounds_and_outbounds = inbounds_and_outbounds[inbounds_and_outbounds.inbound_y ^ True]\n",
    "inbounds_and_outbounds[inbounds_and_outbounds.author_id_y=='Walmart'][:6]"
   ]
  },
  {
   "cell_type": "code",
   "execution_count": 5,
   "metadata": {
    "collapsed": true
   },
   "outputs": [],
   "source": [
    "sorted_answerers=inbounds_and_outbounds.groupby('author_id_y').size().sort_values()\n",
    "sorted_answerers_sum = sorted_answerers.values.sum()\n",
    "sorted_answerers_sum_percent=sorted_answerers/sorted_answerers_sum*100.0"
   ]
  },
  {
   "cell_type": "code",
   "execution_count": 6,
   "metadata": {},
   "outputs": [
    {
     "data": {
      "text/plain": [
       "author_id_y\n",
       "sainsburys          1.355031\n",
       "AskPlayStation      1.434850\n",
       "XboxSupport         1.574848\n",
       "sprintcare          1.592473\n",
       "ChipotleTweets      1.744054\n",
       "hulu_support        1.786984\n",
       "UPSHelp             1.799448\n",
       "VirginTrains        1.807506\n",
       "Ask_Spectrum        2.174244\n",
       "British_Airways     2.468969\n",
       "TMobileHelp         2.526127\n",
       "SouthwestAir        2.642078\n",
       "comcastcares        3.001515\n",
       "AmericanAir         3.085236\n",
       "Tesco               3.133203\n",
       "SpotifyCares        3.391670\n",
       "Delta               3.586181\n",
       "Uber_Support        5.039538\n",
       "AppleSupport        9.395958\n",
       "AmazonHelp         10.655559\n",
       "dtype: float64"
      ]
     },
     "execution_count": 6,
     "metadata": {},
     "output_type": "execute_result"
    }
   ],
   "source": [
    "sorted_answerers_sum_percent[-20:]"
   ]
  },
  {
   "cell_type": "code",
   "execution_count": 7,
   "metadata": {
    "scrolled": true
   },
   "outputs": [
    {
     "data": {
      "image/png": "[encoded data removed]",
      "text/plain": [
       "<matplotlib.figure.Figure at 0x7f87b9160400>"
      ]
     },
     "metadata": {},
     "output_type": "display_data"
    }
   ],
   "source": [
    "%matplotlib inline\n",
    "from matplotlib import cm\n",
    "import matplotlib.pyplot as plt\n",
    "pos=np.arange(20)+0.5\n",
    "plt.figure(figsize=(7,5))\n",
    "ax = plt.subplot(111)\n",
    "colors = cm.plasma_r(np.linspace(1,.2, 20))\n",
    "plt.barh(pos,sorted_answerers.values[-20:],color=colors, tick_label=sorted_answerers.keys()[-20:])\n",
    "plt.yticks(pos,sorted_answerers.keys()[-20:])\n",
    "plt.xlabel('Nombre de premières réponses')\n",
    "plt.title('Top 20 des marques par nombre de premières réponses')\n",
    "for i, v in enumerate(sorted_answerers.values[-20:]):\n",
    "    ax.text(v + 100, i + .35, \"{:.2f}%\".format(sorted_answerers_sum_percent[-20:][i]))\n",
    "\n",
    "plt.show()"
   ]
  },
  {
   "cell_type": "code",
   "execution_count": 8,
   "metadata": {
    "collapsed": true
   },
   "outputs": [],
   "source": [
    "def all_tweets_to(tweets, author_id):\n",
    "    return tweets.loc[pd.unique(tweets.loc[(tweets['inbound']==False) & (tweets['author_id'] == author_id)]['in_response_to_tweet_id'])]\n",
    "\n",
    "def all_initial_tweets_to(tweets, author_id):\n",
    "    return tweets[(tweets.text.str.contains(author_id)) & (tweets.in_response_to_tweet_id.isnull())]"
   ]
  },
  {
   "cell_type": "code",
   "execution_count": 9,
   "metadata": {},
   "outputs": [
    {
     "data": {
      "text/html": [
       "<div>\n",
       "<style>\n",
       "    .dataframe thead tr:only-child th {\n",
       "        text-align: right;\n",
       "    }\n",
       "\n",
       "    .dataframe thead th {\n",
       "        text-align: left;\n",
       "    }\n",
       "\n",
       "    .dataframe tbody tr th {\n",
       "        vertical-align: top;\n",
       "    }\n",
       "</style>\n",
       "<table border=\"1\" class=\"dataframe\">\n",
       "  <thead>\n",
       "    <tr style=\"text-align: right;\">\n",
       "      <th></th>\n",
       "      <th>in_response_to_tweet_id</th>\n",
       "      <th>author_id_x</th>\n",
       "      <th>inbound_x</th>\n",
       "      <th>created_at_x</th>\n",
       "      <th>text_x</th>\n",
       "      <th>response_tweet_id_x</th>\n",
       "      <th>in_response_to_tweet_id_x</th>\n",
       "      <th>author_id_y</th>\n",
       "      <th>inbound_y</th>\n",
       "      <th>created_at_y</th>\n",
       "      <th>text_y</th>\n",
       "      <th>response_tweet_id_y</th>\n",
       "      <th>in_response_to_tweet_id_y</th>\n",
       "    </tr>\n",
       "    <tr>\n",
       "      <th>tweet_id</th>\n",
       "      <th></th>\n",
       "      <th></th>\n",
       "      <th></th>\n",
       "      <th></th>\n",
       "      <th></th>\n",
       "      <th></th>\n",
       "      <th></th>\n",
       "      <th></th>\n",
       "      <th></th>\n",
       "      <th></th>\n",
       "      <th></th>\n",
       "      <th></th>\n",
       "      <th></th>\n",
       "    </tr>\n",
       "  </thead>\n",
       "  <tbody>\n",
       "    <tr>\n",
       "      <th>2378</th>\n",
       "      <td>2380</td>\n",
       "      <td>116254</td>\n",
       "      <td>True</td>\n",
       "      <td>Tue Oct 31 21:53:32 +0000 2017</td>\n",
       "      <td>Just got recognized at @Walmart as the guy who...</td>\n",
       "      <td>2378</td>\n",
       "      <td>NaN</td>\n",
       "      <td>Walmart</td>\n",
       "      <td>False</td>\n",
       "      <td>Tue Oct 31 22:39:02 +0000 2017</td>\n",
       "      <td>@116254 We disagree, Dylan. We're excited that...</td>\n",
       "      <td>2379</td>\n",
       "      <td>2380</td>\n",
       "    </tr>\n",
       "    <tr>\n",
       "      <th>2383</th>\n",
       "      <td>2384</td>\n",
       "      <td>116256</td>\n",
       "      <td>True</td>\n",
       "      <td>Sun Oct 29 05:03:21 +0000 2017</td>\n",
       "      <td>we all know walmart is better in terms of a lo...</td>\n",
       "      <td>2383</td>\n",
       "      <td>NaN</td>\n",
       "      <td>Walmart</td>\n",
       "      <td>False</td>\n",
       "      <td>Sun Oct 29 14:16:20 +0000 2017</td>\n",
       "      <td>@116256 We ❤️ you too, Angel. Thanks for havin...</td>\n",
       "      <td>2382</td>\n",
       "      <td>2384</td>\n",
       "    </tr>\n",
       "    <tr>\n",
       "      <th>2390</th>\n",
       "      <td>2391</td>\n",
       "      <td>116259</td>\n",
       "      <td>True</td>\n",
       "      <td>Tue Oct 31 19:01:20 +0000 2017</td>\n",
       "      <td>It isn’t every day you get 3 carts full of bla...</td>\n",
       "      <td>2390</td>\n",
       "      <td>NaN</td>\n",
       "      <td>Walmart</td>\n",
       "      <td>False</td>\n",
       "      <td>Tue Oct 31 22:08:18 +0000 2017</td>\n",
       "      <td>@116259 We love it! Sounds like a double win! ...</td>\n",
       "      <td>NaN</td>\n",
       "      <td>2391</td>\n",
       "    </tr>\n",
       "    <tr>\n",
       "      <th>2392</th>\n",
       "      <td>2393</td>\n",
       "      <td>116260</td>\n",
       "      <td>True</td>\n",
       "      <td>Tue Oct 31 20:34:57 +0000 2017</td>\n",
       "      <td>Used @Walmart #grocerypickup and it's a pretty...</td>\n",
       "      <td>2392</td>\n",
       "      <td>NaN</td>\n",
       "      <td>Walmart</td>\n",
       "      <td>False</td>\n",
       "      <td>Tue Oct 31 22:00:57 +0000 2017</td>\n",
       "      <td>@116260 Yay! We're thrilled to hear you've enj...</td>\n",
       "      <td>NaN</td>\n",
       "      <td>2393</td>\n",
       "    </tr>\n",
       "    <tr>\n",
       "      <th>2394</th>\n",
       "      <td>2395</td>\n",
       "      <td>116261</td>\n",
       "      <td>True</td>\n",
       "      <td>Tue Oct 31 20:45:49 +0000 2017</td>\n",
       "      <td>Everybody I’ve met at Walmart is so friendly! ...</td>\n",
       "      <td>2394</td>\n",
       "      <td>NaN</td>\n",
       "      <td>Walmart</td>\n",
       "      <td>False</td>\n",
       "      <td>Tue Oct 31 21:53:49 +0000 2017</td>\n",
       "      <td>@116261 We want you to leave our store with a ...</td>\n",
       "      <td>NaN</td>\n",
       "      <td>2395</td>\n",
       "    </tr>\n",
       "    <tr>\n",
       "      <th>2398</th>\n",
       "      <td>2399</td>\n",
       "      <td>116262</td>\n",
       "      <td>True</td>\n",
       "      <td>Tue Oct 31 17:10:30 +0000 2017</td>\n",
       "      <td>Happy Halloween! Look at these pumpkins that w...</td>\n",
       "      <td>2398</td>\n",
       "      <td>NaN</td>\n",
       "      <td>Walmart</td>\n",
       "      <td>False</td>\n",
       "      <td>Tue Oct 31 17:34:28 +0000 2017</td>\n",
       "      <td>@116262 Nothing but the best for the communiti...</td>\n",
       "      <td>2397</td>\n",
       "      <td>2399</td>\n",
       "    </tr>\n",
       "  </tbody>\n",
       "</table>\n",
       "</div>"
      ],
      "text/plain": [
       "          in_response_to_tweet_id author_id_x  inbound_x  \\\n",
       "tweet_id                                                   \n",
       "2378                         2380      116254       True   \n",
       "2383                         2384      116256       True   \n",
       "2390                         2391      116259       True   \n",
       "2392                         2393      116260       True   \n",
       "2394                         2395      116261       True   \n",
       "2398                         2399      116262       True   \n",
       "\n",
       "                            created_at_x  \\\n",
       "tweet_id                                   \n",
       "2378      Tue Oct 31 21:53:32 +0000 2017   \n",
       "2383      Sun Oct 29 05:03:21 +0000 2017   \n",
       "2390      Tue Oct 31 19:01:20 +0000 2017   \n",
       "2392      Tue Oct 31 20:34:57 +0000 2017   \n",
       "2394      Tue Oct 31 20:45:49 +0000 2017   \n",
       "2398      Tue Oct 31 17:10:30 +0000 2017   \n",
       "\n",
       "                                                     text_x  \\\n",
       "tweet_id                                                      \n",
       "2378      Just got recognized at @Walmart as the guy who...   \n",
       "2383      we all know walmart is better in terms of a lo...   \n",
       "2390      It isn’t every day you get 3 carts full of bla...   \n",
       "2392      Used @Walmart #grocerypickup and it's a pretty...   \n",
       "2394      Everybody I’ve met at Walmart is so friendly! ...   \n",
       "2398      Happy Halloween! Look at these pumpkins that w...   \n",
       "\n",
       "         response_tweet_id_x in_response_to_tweet_id_x author_id_y  inbound_y  \\\n",
       "tweet_id                                                                        \n",
       "2378                    2378                       NaN     Walmart      False   \n",
       "2383                    2383                       NaN     Walmart      False   \n",
       "2390                    2390                       NaN     Walmart      False   \n",
       "2392                    2392                       NaN     Walmart      False   \n",
       "2394                    2394                       NaN     Walmart      False   \n",
       "2398                    2398                       NaN     Walmart      False   \n",
       "\n",
       "                            created_at_y  \\\n",
       "tweet_id                                   \n",
       "2378      Tue Oct 31 22:39:02 +0000 2017   \n",
       "2383      Sun Oct 29 14:16:20 +0000 2017   \n",
       "2390      Tue Oct 31 22:08:18 +0000 2017   \n",
       "2392      Tue Oct 31 22:00:57 +0000 2017   \n",
       "2394      Tue Oct 31 21:53:49 +0000 2017   \n",
       "2398      Tue Oct 31 17:34:28 +0000 2017   \n",
       "\n",
       "                                                     text_y  \\\n",
       "tweet_id                                                      \n",
       "2378      @116254 We disagree, Dylan. We're excited that...   \n",
       "2383      @116256 We ❤️ you too, Angel. Thanks for havin...   \n",
       "2390      @116259 We love it! Sounds like a double win! ...   \n",
       "2392      @116260 Yay! We're thrilled to hear you've enj...   \n",
       "2394      @116261 We want you to leave our store with a ...   \n",
       "2398      @116262 Nothing but the best for the communiti...   \n",
       "\n",
       "         response_tweet_id_y in_response_to_tweet_id_y  \n",
       "tweet_id                                                \n",
       "2378                    2379                      2380  \n",
       "2383                    2382                      2384  \n",
       "2390                     NaN                      2391  \n",
       "2392                     NaN                      2393  \n",
       "2394                     NaN                      2395  \n",
       "2398                    2397                      2399  "
      ]
     },
     "execution_count": 9,
     "metadata": {},
     "output_type": "execute_result"
    }
   ],
   "source": [
    "#all_initial_tweets_to(tweets,'@OfficeSupport')\n",
    "inbounds_and_outbounds[inbounds_and_outbounds.author_id_y=='Walmart'][:6]"
   ]
  },
  {
   "cell_type": "code",
   "execution_count": 10,
   "metadata": {
    "collapsed": true
   },
   "outputs": [],
   "source": [
    "#tutu = all_tweets_to(tweets,'@Walmart')\n",
    "#tweets[(tweets.text.str.contains('@Walmart')) & (tweets.in_response_to_tweet_id.isnull())].text.count()\n",
    "# apple = tweets[(tweets.text.str.contains('@AppleSupport')) & (tweets.in_response_to_tweet_id.isnull())].text\n",
    "#apple = all_initial_tweets_to(tweets, '@AppleSupport')\n",
    "\n",
    "#print(apple.loc[765].text)\n",
    "#print(apple.loc[733].text)\n",
    "#print(apple.loc[2987723].text)\n",
    "\n",
    "    "
   ]
  },
  {
   "cell_type": "code",
   "execution_count": 11,
   "metadata": {},
   "outputs": [
    {
     "name": "stdout",
     "output_type": "stream",
     "text": [
      "@115858 @AppleSupport hello are all the lines closed for tonight #help\n",
      "Hello, internet. Can someone explain why this symbol keeps appearing on my phone and when I️ try to type the letter I️? Also @AppleSupport https://t.co/QKwvTLtiN7\n",
      "Thank you @AppleSupport I updated my phone and now it is even slower and barely works. Thank you for ruining my phone.😤\n"
     ]
    }
   ],
   "source": [
    "apple = inbounds_and_outbounds[inbounds_and_outbounds.author_id_y=='AppleSupport']\n",
    "print(apple.iloc[2].text_x)\n",
    "print(apple.iloc[3].text_x)\n",
    "print(apple.iloc[5].text_x)"
   ]
  },
  {
   "cell_type": "code",
   "execution_count": 12,
   "metadata": {},
   "outputs": [
    {
     "name": "stdout",
     "output_type": "stream",
     "text": [
      "n_samples: 74632, n_features: 10000\n"
     ]
    }
   ],
   "source": [
    "from nltk.tokenize import TweetTokenizer\n",
    "from sklearn.feature_extraction.text import TfidfVectorizer\n",
    "import re\n",
    "\n",
    "from nltk.stem import WordNetLemmatizer\n",
    "#import nltk\n",
    "#nltk.download()\n",
    "wordnet_lemmatizer = WordNetLemmatizer()\n",
    "\n",
    "from nltk.stem import SnowballStemmer\n",
    "\n",
    "snowball_stemmer = SnowballStemmer('english')\n",
    "\n",
    "tknzr = TweetTokenizer(preserve_case=False)\n",
    "\n",
    "def preprocess_tweet(tweet):\n",
    "    #import string\n",
    "    #tweet = re.sub(r'http[s]?://(?:[a-z]|[0-9]|[$-_@.&amp;+]|[!*\\(\\),]|(?:%[0-9a-f][0-9a-f]))+', '<url>', tweet)  # URLs\n",
    "    #tweet = re.sub(r'(?:@[\\d]+)', '<user>', tweet)  # numeric user-mentions\n",
    "    #tweet = re.sub(r'(?:\\#+[\\w_]+[\\w\\'_\\-]*[\\w_]+)', '<hashtag>', tweet)  # hashtags\n",
    "    #tweet = re.sub(r'(?:(?:\\d+,?)+(?:\\.?\\d+)?)', '<number>', tweet)  # numbers\n",
    "    \n",
    "   # translate_table = dict((ord(char), None) for char in string.punctuation)   \n",
    "    \n",
    "    #return tweet.translate(translate_table)\n",
    "    #return tweet\n",
    "    #return \" \".join([snowball_stemmer.stem(word) for word in tweet.split(\" \")])\n",
    "    return \" \".join([wordnet_lemmatizer.lemmatize(word) for word in tweet.lower().split(\" \")])\n",
    "\n",
    "\n",
    "vectorizer = TfidfVectorizer(max_df=0.95, min_df=2, max_features=10000,stop_words='english', tokenizer=None, preprocessor=preprocess_tweet)\n",
    "\n",
    "X = vectorizer.fit_transform(apple.text_x)\n",
    "print(\"n_samples: %d, n_features: %d\" % X.shape)"
   ]
  },
  {
   "cell_type": "code",
   "execution_count": 13,
   "metadata": {},
   "outputs": [
    {
     "name": "stdout",
     "output_type": "stream",
     "text": [
      "Thank you @AppleSupport I updated my phone and now it is even slower and barely works. Thank you for ruining my phone.😤\n",
      "['thank', 'you', '@applesupport', 'i', 'updated', 'my', 'phone', 'and', 'now', 'it', 'is', 'even', 'slower', 'and', 'barely', 'works', '.', 'thank', 'you', 'for', 'ruining', 'my', 'phone', '.', '😤']\n",
      "['Thank', 'you', 'AppleSupport', 'updated', 'my', 'phone', 'and', 'now', 'it', 'is', 'even', 'slower', 'and', 'barely', 'works', 'Thank', 'you', 'for', 'ruining', 'my', 'phone']\n",
      "['Thank', 'you', '@AppleSupport', 'updated', 'my', 'phone', 'and', 'now', 'it', 'is', 'even', 'slower', 'and', 'barely', 'works', 'Thank', 'you', 'for', 'ruining', 'my', 'phone']\n"
     ]
    }
   ],
   "source": [
    "# le but de cette cellule est de tuner la tokenisation\n",
    "\n",
    "# 2 3 ou 5\n",
    "test_text = apple.iloc[5].text_x\n",
    "print(test_text)\n",
    "print(tknzr.tokenize(test_text))\n",
    "\n",
    "token_pattern = re.compile(r\"(?u)\\b\\w\\w+\\b\")\n",
    "print(token_pattern.findall(test_text))\n",
    "\n",
    "#token_pattern = re.compile(r\"(?u)\"+ url_regex+\"|(?:(?:\\b\\w|\\B[@#])\\w+\\b)\")\n",
    "\n",
    "\n",
    "url_regex = '(?:http[s]?://(?:[a-z]|[0-9]|[$-_@.&amp;+]|[!*\\(\\),]|(?:%[0-9a-f][0-9a-f]))+)|\\b\\w+'\n",
    "tweet_regex=r\"(?u)\"+ url_regex+\"|(?:(?:\\w|[@#])\\w+)\"\n",
    "token_pattern = re.compile(tweet_regex)\n",
    "print(token_pattern.findall(test_text))"
   ]
  },
  {
   "cell_type": "code",
   "execution_count": 14,
   "metadata": {},
   "outputs": [
    {
     "name": "stdout",
     "output_type": "stream",
     "text": [
      "n_samples: 74632, n_features: 10000\n"
     ]
    }
   ],
   "source": [
    "from nltk.corpus import stopwords\n",
    "stopWords = set(stopwords.words('english'))\n",
    "stopWords.add('@AppleSupport')\n",
    "stopWords.add('@applesupport')\n",
    "stopWords.add('@115858')\n",
    "\n",
    "vectorizer = TfidfVectorizer(max_df=0.9, min_df=1, max_features=10000,stop_words=stopWords, tokenizer=None, preprocessor=None,token_pattern=tweet_regex,)\n",
    "\n",
    "X = vectorizer.fit_transform(apple.text_x)\n",
    "print(\"n_samples: %d, n_features: %d\" % X.shape)"
   ]
  },
  {
   "cell_type": "code",
   "execution_count": 51,
   "metadata": {},
   "outputs": [
    {
     "name": "stdout",
     "output_type": "stream",
     "text": [
      "n_samples: 74632, n_features: 20000\n"
     ]
    }
   ],
   "source": [
    "vectorizer2grams = TfidfVectorizer(ngram_range=(1,2),max_df=0.9, min_df=1, max_features=20000,stop_words=stopWords, tokenizer=None, preprocessor=None,token_pattern=tweet_regex,)\n",
    "X2 = vectorizer2grams.fit_transform(apple.text_x)\n",
    "print(\"n_samples: %d, n_features: %d\" % X2.shape)"
   ]
  },
  {
   "cell_type": "code",
   "execution_count": 16,
   "metadata": {
    "collapsed": true
   },
   "outputs": [],
   "source": [
    "#print(vectorizer2grams.get_feature_names())"
   ]
  },
  {
   "cell_type": "code",
   "execution_count": 17,
   "metadata": {
    "collapsed": true
   },
   "outputs": [],
   "source": [
    "def print_top_words(centroids, feature_names, n_top_words):\n",
    "    for topic_idx, topic in enumerate(centroids):\n",
    "        print(\"Topic #%d:\" % topic_idx)\n",
    "        print(\", \".join([feature_names[i]\n",
    "                        for i in topic.argsort()[:-n_top_words - 1:-1]]))\n",
    "    print()"
   ]
  },
  {
   "cell_type": "code",
   "execution_count": 40,
   "metadata": {
    "collapsed": true
   },
   "outputs": [],
   "source": [
    "%matplotlib inline\n",
    "import matplotlib.pyplot as plt\n",
    "from matplotlib import cm\n",
    "import math\n",
    "\n",
    "def print_top_words_histo(centroids, feature_names, n_top_words):\n",
    "    colors = cm.plasma_r(np.linspace(.2,1, 20))\n",
    "    plt.figure(figsize=(12,3))\n",
    "    for topic_idx, topic in enumerate(centroids):\n",
    "        #plt.subplot(math.ceil(centroids.shape[0]/2),2,topic_idx+1)\n",
    "        plt.subplot(1,centroids.shape[0],topic_idx+1)\n",
    "        plt.title(\"Topic #%d:\" % topic_idx)\n",
    "        words = [feature_names[i] for i in topic.argsort()[:-n_top_words - 1:-1]]\n",
    "        weights = [topic[i] for i in topic.argsort()[:-n_top_words - 1:-1]]\n",
    "        plt.barh(range(n_top_words,0,-1),width=weights, tick_label=words, color=colors)\n",
    "    plt.tight_layout()\n",
    "    plt.show()"
   ]
  },
  {
   "cell_type": "code",
   "execution_count": 19,
   "metadata": {},
   "outputs": [
    {
     "name": "stdout",
     "output_type": "stream",
     "text": [
      "Clustering sparse data with MiniBatchKMeans(batch_size=500, compute_labels=True, init='k-means++',\n",
      "        init_size=1000, max_iter=100, max_no_improvement=10, n_clusters=5,\n",
      "        n_init=1, random_state=2018, reassignment_ratio=0.01, tol=0.0,\n",
      "        verbose=0)\n",
      "done in 0.218s\n",
      "\n",
      "Topics in K-means model:\n"
     ]
    }
   ],
   "source": [
    "from sklearn.cluster import MiniBatchKMeans\n",
    "from time import time\n",
    "\n",
    "# Do the actual clustering with online K-Means\n",
    "nb_of_topics = 5\n",
    "km = MiniBatchKMeans(n_clusters=nb_of_topics, init='k-means++', n_init=1,\n",
    "                     init_size=1000, batch_size=500, verbose=0,  random_state=2018)\n",
    "\n",
    "print(\"Clustering sparse data with %s\" % km)\n",
    "t0 = time()\n",
    "km.fit(X)\n",
    "print(\"done in %0.3fs\" % (time() - t0))\n",
    "\n",
    "# Look at terms that are the most present in each class\n",
    "feature_names = vectorizer.get_feature_names()\n",
    "n_top_words = 10\n",
    "\n",
    "print(\"\\nTopics in K-means model:\")\n",
    "\n",
    "\n"
   ]
  },
  {
   "cell_type": "code",
   "execution_count": null,
   "metadata": {
    "collapsed": true
   },
   "outputs": [],
   "source": []
  },
  {
   "cell_type": "code",
   "execution_count": 41,
   "metadata": {},
   "outputs": [
    {
     "name": "stdout",
     "output_type": "stream",
     "text": [
      "Topic #0:\n",
      "phone, keeps, every, updated, still, time, freezing, iphone, question, crashing\n",
      "Topic #1:\n",
      "update, phone, new, since, iphone, battery, ios, latest, last, thanks\n",
      "Topic #2:\n",
      "11, ios, battery, iphone, phone, since, updated, update, fix, please\n",
      "Topic #3:\n",
      "iphone, help, apple, phone, get, please, wtf, app, hey, battery\n",
      "Topic #4:\n",
      "fix, please, shit, glitch, problem, letter, issue, going, need, question\n",
      "\n"
     ]
    },
    {
     "data": {
      "image/png": "[encoded data removed]",
      "text/plain": [
       "<matplotlib.figure.Figure at 0x7f875cab9d30>"
      ]
     },
     "metadata": {},
     "output_type": "display_data"
    }
   ],
   "source": [
    "print_top_words(km.cluster_centers_, feature_names, n_top_words)\n",
    "#for k, centroid in enumerate(km.cluster_centers_):\n",
    "#    print(\"Cluster #%d:\" % k)\n",
    "#    print(\" \".join([feature_names[i]\n",
    "#                    for i in centroid.argsort()[:-n_top_words - 1:-1]]))\n",
    "print_top_words_histo(km.cluster_centers_, feature_names, n_top_words)"
   ]
  },
  {
   "cell_type": "markdown",
   "metadata": {},
   "source": [
    "## NMF - monogrammes"
   ]
  },
  {
   "cell_type": "code",
   "execution_count": 21,
   "metadata": {
    "collapsed": true
   },
   "outputs": [],
   "source": [
    "from sklearn.decomposition import NMF\n",
    "nmf = NMF(n_components=nb_of_topics,\n",
    "          alpha=.1, l1_ratio=.5).fit(X)"
   ]
  },
  {
   "cell_type": "code",
   "execution_count": 42,
   "metadata": {},
   "outputs": [
    {
     "name": "stdout",
     "output_type": "stream",
     "text": [
      "Topic #0:\n",
      "ios, 11, battery, iphone, life, since, 6s, updated, plus, draining\n",
      "Topic #1:\n",
      "fix, please, glitch, problem, issue, shit, going, gonna, hey, bug\n",
      "Topic #2:\n",
      "phone, update, new, since, updated, iphone, keeps, freezing, thanks, ever\n",
      "Topic #3:\n",
      "help, please, need, apple, iphone, hi, app, music, get, id\n",
      "Topic #4:\n",
      "shit, question, mark, letter, type, wtf, get, box, together, marks\n",
      "\n"
     ]
    },
    {
     "data": {
      "image/png": "[encoded data removed]",
      "text/plain": [
       "<matplotlib.figure.Figure at 0x7f875ca27940>"
      ]
     },
     "metadata": {},
     "output_type": "display_data"
    }
   ],
   "source": [
    "print_top_words(nmf.components_, vectorizer.get_feature_names(), n_top_words)\n",
    "print_top_words_histo(nmf.components_, vectorizer.get_feature_names(), n_top_words)"
   ]
  },
  {
   "cell_type": "markdown",
   "metadata": {},
   "source": [
    "## NMF - bigrammes"
   ]
  },
  {
   "cell_type": "code",
   "execution_count": 49,
   "metadata": {
    "collapsed": true
   },
   "outputs": [],
   "source": [
    "from sklearn.decomposition import NMF\n",
    "nmf2 = NMF(n_components=nb_of_topics,\n",
    "          alpha=.1, l1_ratio=.5).fit(X2)"
   ]
  },
  {
   "cell_type": "code",
   "execution_count": 50,
   "metadata": {},
   "outputs": [
    {
     "name": "stdout",
     "output_type": "stream",
     "text": [
      "Topic #0:\n",
      "ios 11, 11 update, updated ios, battery life, 11 iphone, updating ios, since ios, iphone ios, iphone 6s, update ios\n",
      "Topic #1:\n",
      "please fix, fix glitch, fix problem, fix issue, dear please, fix bug, fix ios, fix asap, hey please, fix thing\n",
      "Topic #2:\n",
      "fix shit, need fix, gonna fix, yo fix, shit asap, better fix, needs fix, hey fix, shit already, question mark\n",
      "Topic #3:\n",
      "new update, update phone, since new, ever since, ios update, new ios, update sucks, battery life, phone keeps, update iphone\n",
      "Topic #4:\n",
      "please help, 11 please, hi please, help fix, iphone please, apple id, help thanks, update please, phone please, iphone 6s\n",
      "\n"
     ]
    },
    {
     "data": {
      "image/png": "[encoded data removed]",
      "text/plain": [
       "<matplotlib.figure.Figure at 0x7f875de9e2e8>"
      ]
     },
     "metadata": {},
     "output_type": "display_data"
    }
   ],
   "source": [
    "print_top_words(nmf2.components_, vectorizer2grams.get_feature_names(), n_top_words)\n",
    "print_top_words_histo(nmf2.components_, vectorizer2grams.get_feature_names(), n_top_words)"
   ]
  },
  {
   "cell_type": "code",
   "execution_count": 44,
   "metadata": {},
   "outputs": [
    {
     "name": "stdout",
     "output_type": "stream",
     "text": [
      "done in 51.329s.\n",
      "\n",
      "Topics in LDA model:\n",
      "Topic #0:\n",
      "fix, please, music, problem, battery, ios, 11, issue, day, ios11\n",
      "Topic #1:\n",
      "phone, update, ios, iphone, 11, new, battery, since, updated, apps\n",
      "Topic #2:\n",
      "make, watch, hours, iphone, de, apple, seeing, boxes, someone, explain\n",
      "Topic #3:\n",
      "apple, help, iphone, phone, back, hi, get, please, app, new\n",
      "Topic #4:\n",
      "fix, screen, letter, use, question, working, time, get, type, app\n",
      "\n"
     ]
    }
   ],
   "source": [
    "from sklearn.decomposition import LatentDirichletAllocation\n",
    "from sklearn.feature_extraction.text import CountVectorizer\n",
    "tf_vectorizer = CountVectorizer(max_df=0.95, min_df=2,\n",
    "                                max_features=10000,\n",
    "                                stop_words=stopWords, token_pattern=tweet_regex)\n",
    "X_tf = tf_vectorizer.fit_transform(apple.text_x)\n",
    "lda = LatentDirichletAllocation(n_components=nb_of_topics, max_iter=5,\n",
    "                                learning_method='online',\n",
    "                                learning_offset=50.,\n",
    "                                random_state=2018)\n",
    "t0 = time()\n",
    "lda.fit(X_tf)\n",
    "print(\"done in %0.3fs.\" % (time() - t0))\n",
    "\n",
    "print(\"\\nTopics in LDA model:\")\n",
    "tf_feature_names = tf_vectorizer.get_feature_names()\n"
   ]
  },
  {
   "cell_type": "code",
   "execution_count": 47,
   "metadata": {},
   "outputs": [
    {
     "name": "stdout",
     "output_type": "stream",
     "text": [
      "Topic #0:\n",
      "fix, please, music, problem, battery, ios, 11, issue, day, ios11\n",
      "Topic #1:\n",
      "phone, update, ios, iphone, 11, new, battery, since, updated, apps\n",
      "Topic #2:\n",
      "make, watch, hours, iphone, de, apple, seeing, boxes, someone, explain\n",
      "Topic #3:\n",
      "apple, help, iphone, phone, back, hi, get, please, app, new\n",
      "Topic #4:\n",
      "fix, screen, letter, use, question, working, time, get, type, app\n",
      "\n"
     ]
    },
    {
     "data": {
      "image/png": "[encoded data removed]",
      "text/plain": [
       "<matplotlib.figure.Figure at 0x7f87584d1a90>"
      ]
     },
     "metadata": {},
     "output_type": "display_data"
    }
   ],
   "source": [
    "print_top_words(lda.components_, tf_feature_names, n_top_words)\n",
    "print_top_words_histo(lda.components_, tf_feature_names, n_top_words)\n"
   ]
  },
  {
   "cell_type": "code",
   "execution_count": 26,
   "metadata": {},
   "outputs": [
    {
     "data": {
      "text/plain": [
       "tweet_id\n",
       "1758       Why is “I️” keep changing to this and how do I...\n",
       "2611       Cupertino, we have a problem. .@115858 .@11633...\n",
       "4908       コレは本当に困る、ゲームも出来なくなったしアップデートしなきゃ良かった´д` ;\\n@App...\n",
       "4914       Don’t complain a lot about @115858 but when ba...\n",
       "5827       Heyyy @115858 still waiting on a version of iO...\n",
       "6482       Hello @115858 @AppleSupport what’s happening t...\n",
       "8543          what the fuck @115858? https://t.co/oHhvAW2pqh\n",
       "8569       @115858 @AppleSupport FYI, Folders no longer s...\n",
       "11109      My phone been fucking up all week @115858! htt...\n",
       "11130      Is anyone doing bug fixing @115858  anymore? I...\n",
       "11644      How do I get rid of this notification? @4305 @...\n",
       "13212      Terror del siglo XXI!!! Ayúdame @115858 ! http...\n",
       "13577      @115858 @AppleSupport buggie spotted https://t...\n",
       "13589      Tudo bom ??? Todos estão com o mesmo problema ...\n",
       "13930      This what happens to my iPhone after I downloa...\n",
       "13934      I’m sorry but wtf is this @115858 https://t.co...\n",
       "14333      .@AppleSupport  @115858 WHY DOES THIS KEEP HAP...\n",
       "14870      Also this question mark bullshit is dumb. Fix ...\n",
       "18832      I’m still waiting when @115858 will fix #apple...\n",
       "23076      @115858 ok not sure why this is happening but ...\n",
       "26694      Hey @115858 I️  think we need to have a talk #...\n",
       "26717      Hey @115858 is this covered under warrantee? G...\n",
       "26719      @115858 the glitch problem happens with the le...\n",
       "31483      Hey @115858 and @AppleSupport does this improv...\n",
       "31896      someone help me what halloween sorcery is this...\n",
       "31912      @115858 iPhone 7 user with iOS 11 having a bug...\n",
       "31932      Why do my tweets have hashtags and square ques...\n",
       "32377      Hey @115858 @AppleSupport, not sure you tested...\n",
       "33322      @115858 Fail on your website from an iPhone/Sa...\n",
       "33352      #iOS11.1 is taking iPhones into consistent boo...\n",
       "                                 ...                        \n",
       "2970230    @115858 - A minor error in the spelling https:...\n",
       "2971319    My @115858 iPhone charger just caught fire aft...\n",
       "2971593    @115858 Why Is My “It” Typing I.T ? If I.T Was...\n",
       "2972507    soooo... @115858 why since i updated my phone ...\n",
       "2972536    Just when you think @115858 got their shit tog...\n",
       "2973448    @115858 I know I should have an arm band while...\n",
       "2975350    there’s so many fucking glitches &amp; my phon...\n",
       "2975652    So, Yeah! 🤦🏻‍♂️🤦🏻‍♂️ 3 hrs is not enough. 😅 @1...\n",
       "2975675    @115858 @AppleSupport is there an iOS11 bug I ...\n",
       "2975696    Installed this, my OS is now running like it's...\n",
       "2976301    I need answers!!! @115858 this update has turn...\n",
       "2976319    @170480 @AppleSupport @115858 What the hell is...\n",
       "2976466    I am in the process of installing the new OS o...\n",
       "2976650    Useless error messages that provide no directi...\n",
       "2977404    It sucks that Face ID doesn’t always work when...\n",
       "2977482    Why does my phone autocorrect \"then\" into \"tur...\n",
       "2977501    And the problems continue on my iPhone 6 with ...\n",
       "2977688    @AppleSupport @115858 super upset right now th...\n",
       "2978353    @115858 @AppleSupport what the hell? https://t...\n",
       "2978640    How long does the upgrade take ? Been around 2...\n",
       "2978808          wtf is this @115858 https://t.co/1bxDR1xA0S\n",
       "2978812    PLEASE EXPLAIN TO ME ON HOW MY PHONE SCREEN ON...\n",
       "2978887    #ios11 bug crash iMessage bug @115858 please f...\n",
       "2980252    I think I should stick to buying books the old...\n",
       "2980839    @115858 I'm switching because, among other thi...\n",
       "2981627    WTF @115858 ? #iOS11 #apple https://t.co/3hlWm...\n",
       "2981931    Dear @115858 @AppleSupport, why oh why do I ne...\n",
       "2984880    DYK switching off Bluetooth and Wifi in #iOS11...\n",
       "2986393    That feeling when you’ve been working very har...\n",
       "2986784    @115858 just to let you know I received these ...\n",
       "Name: text_x, Length: 5773, dtype: object"
      ]
     },
     "execution_count": 26,
     "metadata": {},
     "output_type": "execute_result"
    }
   ],
   "source": [
    "apple[apple.text_x.str.contains('@115858') & apple.text_x.str.contains('t.co')].text_x"
   ]
  },
  {
   "cell_type": "code",
   "execution_count": 27,
   "metadata": {},
   "outputs": [
    {
     "data": {
      "text/plain": [
       "'book'"
      ]
     },
     "execution_count": 27,
     "metadata": {},
     "output_type": "execute_result"
    }
   ],
   "source": [
    "from nltk.stem import WordNetLemmatizer\n",
    "#import nltk\n",
    "#nltk.download()\n",
    "wordnet_lemmatizer = WordNetLemmatizer()\n",
    "wordnet_lemmatizer.lemmatize('books',pos='n')"
   ]
  },
  {
   "cell_type": "code",
   "execution_count": 28,
   "metadata": {},
   "outputs": [
    {
     "data": {
      "text/plain": [
       "'iphon'"
      ]
     },
     "execution_count": 28,
     "metadata": {},
     "output_type": "execute_result"
    }
   ],
   "source": [
    "from nltk.stem import SnowballStemmer\n",
    "snowball_stemmer = SnowballStemmer('english')\n",
    "snowball_stemmer.stem('I think I should stick to buying books the ')\n",
    "sentence = 'wtf is this @115858 https://t.co/1bxDR1xA0S'\n",
    "\" \".join([snowball_stemmer.stem(word) for word in sentence.split(\" \")])\n",
    "snowball_stemmer.stem('iphone')"
   ]
  },
  {
   "cell_type": "code",
   "execution_count": 29,
   "metadata": {},
   "outputs": [
    {
     "name": "stdout",
     "output_type": "stream",
     "text": [
      "Thank you @AppleSupport I updated my phone and now it is even slower and barely works. Thank you for ruining my phone.😤\n"
     ]
    }
   ],
   "source": [
    "print(apple.iloc[5].text_x)"
   ]
  }
 ],
 "metadata": {
  "kernelspec": {
   "display_name": "Python 3",
   "language": "python",
   "name": "python3"
  },
  "language_info": {
   "codemirror_mode": {
    "name": "ipython",
    "version": 3
   },
   "file_extension": ".py",
   "mimetype": "text/x-python",
   "name": "python",
   "nbconvert_exporter": "python",
   "pygments_lexer": "ipython3",
   "version": "3.6.2"
  }
 },
 "nbformat": 4,
 "nbformat_minor": 2
}
